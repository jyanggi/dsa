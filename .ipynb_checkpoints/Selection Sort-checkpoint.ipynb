{
 "cells": [
  {
   "cell_type": "code",
   "execution_count": 1,
   "id": "d2768a58-ac58-4f44-81db-7753165ae4db",
   "metadata": {},
   "outputs": [],
   "source": [
    "def selection_sort(A:list):\n",
    "    min = None\n",
    "    print(\"Start list: \", A)\n",
    "    for i in range(len(A)-1):\n",
    "        min = i\n",
    "        print(A[:i], A[i:])\n",
    "        print(f'Initial minimum set to: {A[min]}')\n",
    "        for j in range(i+1, len(A)):\n",
    "            if A[j] < A[min]:\n",
    "                min = j\n",
    "        if min != i:\n",
    "            print(f'Updated minimum: {A[min]}')\n",
    "            A[i],A[min] = A[min],A[i]\n",
    "        print(A[:i+1], A[i+1:])\n",
    "        yield i"
   ]
  },
  {
   "cell_type": "code",
   "execution_count": 2,
   "id": "be4b044e-d88a-41cc-b64f-170ec5022d19",
   "metadata": {},
   "outputs": [
    {
     "data": {
      "text/plain": [
       "[79, 67, 10, 43, 21, 85, 41, 40, 26, 82, 35, 8]"
      ]
     },
     "execution_count": 2,
     "metadata": {},
     "output_type": "execute_result"
    }
   ],
   "source": [
    "from random import sample\n",
    "nums = sample(range(1,101),12)\n",
    "nums"
   ]
  },
  {
   "cell_type": "code",
   "execution_count": 4,
   "id": "f9fd146d-26f0-4aff-8e69-c5d97afc4b61",
   "metadata": {},
   "outputs": [
    {
     "data": {
      "text/plain": [
       "<generator object selection_sort at 0x000002224EA89540>"
      ]
     },
     "execution_count": 4,
     "metadata": {},
     "output_type": "execute_result"
    }
   ],
   "source": [
    "sorter = selection_sort(nums)\n",
    "sorter"
   ]
  },
  {
   "cell_type": "code",
   "execution_count": 5,
   "id": "eef76ab0-6212-4951-a4aa-39a585e5cb3a",
   "metadata": {},
   "outputs": [
    {
     "name": "stdout",
     "output_type": "stream",
     "text": [
      "Start list:  [79, 67, 10, 43, 21, 85, 41, 40, 26, 82, 35, 8]\n",
      "[] [79, 67, 10, 43, 21, 85, 41, 40, 26, 82, 35, 8]\n",
      "Initial minimum set to: 79\n",
      "Updated minimum: 8\n",
      "[8] [67, 10, 43, 21, 85, 41, 40, 26, 82, 35, 79]\n"
     ]
    },
    {
     "data": {
      "text/plain": [
       "0"
      ]
     },
     "execution_count": 5,
     "metadata": {},
     "output_type": "execute_result"
    }
   ],
   "source": [
    "next(sorter)"
   ]
  },
  {
   "cell_type": "code",
   "execution_count": 6,
   "id": "84a903e4-7da4-45e2-8112-96e8487091db",
   "metadata": {},
   "outputs": [
    {
     "name": "stdout",
     "output_type": "stream",
     "text": [
      "[8] [67, 10, 43, 21, 85, 41, 40, 26, 82, 35, 79]\n",
      "Initial minimum set to: 67\n",
      "Updated minimum: 10\n",
      "[8, 10] [67, 43, 21, 85, 41, 40, 26, 82, 35, 79]\n"
     ]
    },
    {
     "data": {
      "text/plain": [
       "1"
      ]
     },
     "execution_count": 6,
     "metadata": {},
     "output_type": "execute_result"
    }
   ],
   "source": [
    "next(sorter)"
   ]
  },
  {
   "cell_type": "code",
   "execution_count": 7,
   "id": "37eb0a3e-c006-42bf-a73d-38c48c6cce08",
   "metadata": {},
   "outputs": [
    {
     "name": "stdout",
     "output_type": "stream",
     "text": [
      "[8, 10] [67, 43, 21, 85, 41, 40, 26, 82, 35, 79]\n",
      "Initial minimum set to: 67\n",
      "Updated minimum: 21\n",
      "[8, 10, 21] [43, 67, 85, 41, 40, 26, 82, 35, 79]\n"
     ]
    },
    {
     "data": {
      "text/plain": [
       "2"
      ]
     },
     "execution_count": 7,
     "metadata": {},
     "output_type": "execute_result"
    }
   ],
   "source": [
    "next(sorter)"
   ]
  },
  {
   "cell_type": "code",
   "execution_count": 8,
   "id": "0a1a4e93-0872-414b-9676-65975e9f812e",
   "metadata": {},
   "outputs": [
    {
     "name": "stdout",
     "output_type": "stream",
     "text": [
      "[8, 10, 21] [43, 67, 85, 41, 40, 26, 82, 35, 79]\n",
      "Initial minimum set to: 43\n",
      "Updated minimum: 26\n",
      "[8, 10, 21, 26] [67, 85, 41, 40, 43, 82, 35, 79]\n"
     ]
    },
    {
     "data": {
      "text/plain": [
       "3"
      ]
     },
     "execution_count": 8,
     "metadata": {},
     "output_type": "execute_result"
    }
   ],
   "source": [
    "next(sorter)"
   ]
  },
  {
   "cell_type": "code",
   "execution_count": 9,
   "id": "f8fd9949-7a7e-4c63-88e4-9033f79d3ef0",
   "metadata": {},
   "outputs": [
    {
     "name": "stdout",
     "output_type": "stream",
     "text": [
      "[8, 10, 21, 26] [67, 85, 41, 40, 43, 82, 35, 79]\n",
      "Initial minimum set to: 67\n",
      "Updated minimum: 35\n",
      "[8, 10, 21, 26, 35] [85, 41, 40, 43, 82, 67, 79]\n"
     ]
    },
    {
     "data": {
      "text/plain": [
       "4"
      ]
     },
     "execution_count": 9,
     "metadata": {},
     "output_type": "execute_result"
    }
   ],
   "source": [
    "next(sorter)"
   ]
  },
  {
   "cell_type": "code",
   "execution_count": 10,
   "id": "71c39c70-540b-4a03-b09d-c768667d6ade",
   "metadata": {},
   "outputs": [
    {
     "name": "stdout",
     "output_type": "stream",
     "text": [
      "[8, 10, 21, 26, 35] [85, 41, 40, 43, 82, 67, 79]\n",
      "Initial minimum set to: 85\n",
      "Updated minimum: 40\n",
      "[8, 10, 21, 26, 35, 40] [41, 85, 43, 82, 67, 79]\n"
     ]
    },
    {
     "data": {
      "text/plain": [
       "5"
      ]
     },
     "execution_count": 10,
     "metadata": {},
     "output_type": "execute_result"
    }
   ],
   "source": [
    "next(sorter)"
   ]
  },
  {
   "cell_type": "code",
   "execution_count": 11,
   "id": "e3bf4959-fd8d-41e2-a9c1-2c3be66c885d",
   "metadata": {},
   "outputs": [
    {
     "name": "stdout",
     "output_type": "stream",
     "text": [
      "[8, 10, 21, 26, 35, 40] [41, 85, 43, 82, 67, 79]\n",
      "Initial minimum set to: 41\n",
      "[8, 10, 21, 26, 35, 40, 41] [85, 43, 82, 67, 79]\n"
     ]
    },
    {
     "data": {
      "text/plain": [
       "6"
      ]
     },
     "execution_count": 11,
     "metadata": {},
     "output_type": "execute_result"
    }
   ],
   "source": [
    "next(sorter)"
   ]
  },
  {
   "cell_type": "code",
   "execution_count": 12,
   "id": "08d0f9fd-b254-478a-aec4-6e570371d0e2",
   "metadata": {},
   "outputs": [
    {
     "name": "stdout",
     "output_type": "stream",
     "text": [
      "[8, 10, 21, 26, 35, 40, 41] [85, 43, 82, 67, 79]\n",
      "Initial minimum set to: 85\n",
      "Updated minimum: 43\n",
      "[8, 10, 21, 26, 35, 40, 41, 43] [85, 82, 67, 79]\n"
     ]
    },
    {
     "data": {
      "text/plain": [
       "7"
      ]
     },
     "execution_count": 12,
     "metadata": {},
     "output_type": "execute_result"
    }
   ],
   "source": [
    "next(sorter)"
   ]
  },
  {
   "cell_type": "code",
   "execution_count": 13,
   "id": "3a30b5c5-0329-4ef2-be0e-6bbeb232b1cb",
   "metadata": {},
   "outputs": [
    {
     "name": "stdout",
     "output_type": "stream",
     "text": [
      "[8, 10, 21, 26, 35, 40, 41, 43] [85, 82, 67, 79]\n",
      "Initial minimum set to: 85\n",
      "Updated minimum: 67\n",
      "[8, 10, 21, 26, 35, 40, 41, 43, 67] [82, 85, 79]\n"
     ]
    },
    {
     "data": {
      "text/plain": [
       "8"
      ]
     },
     "execution_count": 13,
     "metadata": {},
     "output_type": "execute_result"
    }
   ],
   "source": [
    "next(sorter)"
   ]
  },
  {
   "cell_type": "code",
   "execution_count": 14,
   "id": "01cbb78e-a15f-41f3-869c-bd3d0a849495",
   "metadata": {},
   "outputs": [
    {
     "name": "stdout",
     "output_type": "stream",
     "text": [
      "[8, 10, 21, 26, 35, 40, 41, 43, 67] [82, 85, 79]\n",
      "Initial minimum set to: 82\n",
      "Updated minimum: 79\n",
      "[8, 10, 21, 26, 35, 40, 41, 43, 67, 79] [85, 82]\n"
     ]
    },
    {
     "data": {
      "text/plain": [
       "9"
      ]
     },
     "execution_count": 14,
     "metadata": {},
     "output_type": "execute_result"
    }
   ],
   "source": [
    "next(sorter)"
   ]
  },
  {
   "cell_type": "code",
   "execution_count": 15,
   "id": "229f82a3-682d-4876-b7f0-fdba38d7ff41",
   "metadata": {},
   "outputs": [
    {
     "name": "stdout",
     "output_type": "stream",
     "text": [
      "[8, 10, 21, 26, 35, 40, 41, 43, 67, 79] [85, 82]\n",
      "Initial minimum set to: 85\n",
      "Updated minimum: 82\n",
      "[8, 10, 21, 26, 35, 40, 41, 43, 67, 79, 82] [85]\n"
     ]
    },
    {
     "data": {
      "text/plain": [
       "10"
      ]
     },
     "execution_count": 15,
     "metadata": {},
     "output_type": "execute_result"
    }
   ],
   "source": [
    "next(sorter)"
   ]
  },
  {
   "cell_type": "code",
   "execution_count": 16,
   "id": "45f3a1de-735a-4229-97fe-8854740c6c8f",
   "metadata": {},
   "outputs": [
    {
     "ename": "StopIteration",
     "evalue": "",
     "output_type": "error",
     "traceback": [
      "\u001b[1;31m---------------------------------------------------------------------------\u001b[0m",
      "\u001b[1;31mStopIteration\u001b[0m                             Traceback (most recent call last)",
      "Cell \u001b[1;32mIn[16], line 1\u001b[0m\n\u001b[1;32m----> 1\u001b[0m \u001b[38;5;28;43mnext\u001b[39;49m\u001b[43m(\u001b[49m\u001b[43msorter\u001b[49m\u001b[43m)\u001b[49m\n",
      "\u001b[1;31mStopIteration\u001b[0m: "
     ]
    }
   ],
   "source": [
    "next(sorter)"
   ]
  },
  {
   "cell_type": "code",
   "execution_count": 17,
   "id": "2e37f30b-33e6-42d1-88d2-399d802ffd59",
   "metadata": {},
   "outputs": [
    {
     "data": {
      "text/plain": [
       "[8, 10, 21, 26, 35, 40, 41, 43, 67, 79, 82, 85]"
      ]
     },
     "execution_count": 17,
     "metadata": {},
     "output_type": "execute_result"
    }
   ],
   "source": [
    "nums"
   ]
  },
  {
   "cell_type": "code",
   "execution_count": null,
   "id": "f4d22db4-5b2c-42fb-b484-88e225316282",
   "metadata": {},
   "outputs": [],
   "source": []
  }
 ],
 "metadata": {
  "kernelspec": {
   "display_name": "Python 3 (ipykernel)",
   "language": "python",
   "name": "python3"
  },
  "language_info": {
   "codemirror_mode": {
    "name": "ipython",
    "version": 3
   },
   "file_extension": ".py",
   "mimetype": "text/x-python",
   "name": "python",
   "nbconvert_exporter": "python",
   "pygments_lexer": "ipython3",
   "version": "3.12.2"
  }
 },
 "nbformat": 4,
 "nbformat_minor": 5
}
