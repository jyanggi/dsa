{
 "cells": [
  {
   "cell_type": "markdown",
   "id": "eca79704-b028-4c5f-9962-9656e4612972",
   "metadata": {},
   "source": [
    "### The Maximum Subarray Problem is a classic algorithmic problem in computer science. Given an array of numbers, the task is to find the contiguous subarray within the array that has the largest sum."
   ]
  },
  {
   "cell_type": "markdown",
   "id": "2b2d225e-b860-4156-aced-f7749fced73a",
   "metadata": {},
   "source": [
    "For example, consider the array ```[-2, 1, -3, 4, -1, 2, 1, -5, 4]```. The contiguous subarray with the largest sum is ```[4, -1, 2, 1]```, with a sum of 6."
   ]
  },
  {
   "cell_type": "code",
   "execution_count": 3,
   "id": "3346a668-552f-4891-b5d0-651139b0fd3b",
   "metadata": {},
   "outputs": [
    {
     "data": {
      "text/plain": [
       "[-2, 1, -3, 4, -1, 2, 1, -5, 4]"
      ]
     },
     "execution_count": 3,
     "metadata": {},
     "output_type": "execute_result"
    }
   ],
   "source": [
    "A = [-2, 1, -3, 4, -1, 2, 1, -5, 4]\n",
    "A"
   ]
  },
  {
   "cell_type": "markdown",
   "id": "27819fde-8b57-4e4a-968d-00d07d133a59",
   "metadata": {},
   "source": [
    "There are several approaches to solving the Maximum Subarray Problem, including the Divide and Conquer approach, which is an efficient way to solve this problem with a time complexity of O(n log n).\n",
    "\n",
    "Here's how the Divide and Conquer approach works:\n",
    "\n",
    "- Divide: Divide the given array into two halves.\n",
    "- Conquer: Recursively find the maximum subarray sum for each half of the array.\n",
    "- Combine: Find the maximum subarray sum that crosses the midpoint of the array.\n",
    "- Return: Return the maximum of the three sums found in steps 2 and 3."
   ]
  },
  {
   "cell_type": "code",
   "execution_count": 8,
   "id": "8b0bb09f-6785-4325-98d5-f0844aa9395d",
   "metadata": {},
   "outputs": [],
   "source": [
    "def max_crossing_subarray(arr, low, mid, high):\n",
    "    \"\"\"\n",
    "    Finds the maximum subarray sum that crosses the midpoint of the array.\n",
    "\n",
    "    Parameters:\n",
    "    - arr: The input array\n",
    "    - low: The starting index of the subarray\n",
    "    - mid: The midpoint index of the subarray\n",
    "    - high: The ending index of the subarray\n",
    "\n",
    "    Yields:\n",
    "    - A tuple (max_left, max_right, max_sum) where:\n",
    "        - max_left: The starting index of the maximum subarray\n",
    "        - max_right: The ending index of the maximum subarray\n",
    "        - max_sum: The sum of the maximum subarray\n",
    "    \"\"\"\n",
    "    # Initialize the left and right sums to negative infinity\n",
    "    left_sum = float('-inf')\n",
    "    right_sum = float('-inf')\n",
    "    sum = 0\n",
    "    max_left = 0\n",
    "    max_right = 0\n",
    "    \n",
    "    # Find the maximum subarray sum on the left side of the midpoint\n",
    "    for i in range(mid, low - 1, -1):\n",
    "        sum += arr[i]\n",
    "        if sum > left_sum:\n",
    "            left_sum = sum\n",
    "            max_left = i\n",
    "        yield max_left, None, None  # Yield current maximum left index\n",
    "    \n",
    "    sum = 0\n",
    "    \n",
    "    # Find the maximum subarray sum on the right side of the midpoint\n",
    "    for i in range(mid + 1, high + 1):\n",
    "        sum += arr[i]\n",
    "        if sum > right_sum:\n",
    "            right_sum = sum\n",
    "            max_right = i\n",
    "        yield None, max_right, None  # Yield current maximum right index\n",
    "    \n",
    "    yield max_left, max_right, left_sum + right_sum  # Yield the maximum crossing subarray sum\n"
   ]
  },
  {
   "cell_type": "code",
   "execution_count": 9,
   "id": "4cafed4a-c12b-4359-b891-e49330a21390",
   "metadata": {},
   "outputs": [],
   "source": [
    "def max_subarray(arr, low, high):\n",
    "    \"\"\"\n",
    "    Finds the maximum subarray sum within the given array.\n",
    "\n",
    "    Parameters:\n",
    "    - arr: The input array\n",
    "    - low: The starting index of the subarray\n",
    "    - high: The ending index of the subarray\n",
    "\n",
    "    Yields:\n",
    "    - A tuple (start, end, max_sum) where:\n",
    "        - start: The starting index of the maximum subarray\n",
    "        - end: The ending index of the maximum subarray\n",
    "        - max_sum: The sum of the maximum subarray\n",
    "    \"\"\"\n",
    "    if high == low:\n",
    "        yield low, high, arr[low]  # If there is only one element, return it\n",
    "    else:\n",
    "        mid = (low + high) // 2\n",
    "        yield from max_subarray(arr, low, mid)  # Recursively find the maximum subarray sum on the left\n",
    "        yield from max_subarray(arr, mid + 1, high)  # Recursively find the maximum subarray sum on the right\n",
    "        yield from max_crossing_subarray(arr, low, mid, high)"
   ]
  },
  {
   "cell_type": "code",
   "execution_count": 12,
   "id": "cab9453c-7f36-491c-8903-0563759e3b26",
   "metadata": {},
   "outputs": [
    {
     "name": "stdout",
     "output_type": "stream",
     "text": [
      "Current state: (0, 0, -2)\n",
      "Current state: (1, 1, 1)\n",
      "Current state: (0, None, None)\n",
      "Current state: (None, 1, None)\n",
      "Current state: (0, 1, -1)\n",
      "Current state: (2, 2, -3)\n",
      "Current state: (1, None, None)\n",
      "Current state: (1, None, None)\n",
      "Current state: (None, 2, None)\n",
      "Current state: (1, 2, -2)\n",
      "Current state: (3, 3, 4)\n",
      "Current state: (4, 4, -1)\n",
      "Current state: (3, None, None)\n",
      "Current state: (None, 4, None)\n",
      "Current state: (3, 4, 3)\n",
      "Current state: (2, None, None)\n",
      "Current state: (1, None, None)\n",
      "Current state: (1, None, None)\n",
      "Current state: (None, 3, None)\n",
      "Current state: (None, 3, None)\n",
      "Current state: (1, 3, 2)\n",
      "Current state: (5, 5, 2)\n",
      "Current state: (6, 6, 1)\n",
      "Current state: (5, None, None)\n",
      "Current state: (None, 6, None)\n",
      "Current state: (5, 6, 3)\n",
      "Current state: (7, 7, -5)\n",
      "Current state: (8, 8, 4)\n",
      "Current state: (7, None, None)\n",
      "Current state: (None, 8, None)\n",
      "Current state: (7, 8, -1)\n",
      "Current state: (6, None, None)\n",
      "Current state: (5, None, None)\n",
      "Current state: (None, 7, None)\n",
      "Current state: (None, 8, None)\n",
      "Current state: (5, 8, 2)\n",
      "Current state: (4, None, None)\n",
      "Current state: (3, None, None)\n",
      "Current state: (3, None, None)\n",
      "Current state: (3, None, None)\n",
      "Current state: (3, None, None)\n",
      "Current state: (None, 5, None)\n",
      "Current state: (None, 6, None)\n",
      "Current state: (None, 6, None)\n",
      "Current state: (None, 6, None)\n",
      "Current state: (3, 6, 6)\n"
     ]
    }
   ],
   "source": [
    "for r in max_subarray(A, 0, len(A) - 1):\n",
    "    result = r\n",
    "    print(\"Current state:\", result)"
   ]
  },
  {
   "cell_type": "code",
   "execution_count": 13,
   "id": "21541555-81d1-4750-97fd-373cffa461fb",
   "metadata": {},
   "outputs": [
    {
     "name": "stdout",
     "output_type": "stream",
     "text": [
      "Maximum subarray sum: 6\n",
      "Subarray indices: 3 6\n",
      "Subarray: [4, -1, 2, 1]\n"
     ]
    }
   ],
   "source": [
    "low, high, max_sum = result\n",
    "print(\"Maximum subarray sum:\", max_sum)\n",
    "print(\"Subarray indices:\", low, high)\n",
    "print(\"Subarray:\", A[low:high + 1])\n"
   ]
  },
  {
   "cell_type": "code",
   "execution_count": null,
   "id": "f4e90c87-1f70-4d34-bc0f-5155d48f02ee",
   "metadata": {},
   "outputs": [],
   "source": []
  }
 ],
 "metadata": {
  "kernelspec": {
   "display_name": "Python 3 (ipykernel)",
   "language": "python",
   "name": "python3"
  },
  "language_info": {
   "codemirror_mode": {
    "name": "ipython",
    "version": 3
   },
   "file_extension": ".py",
   "mimetype": "text/x-python",
   "name": "python",
   "nbconvert_exporter": "python",
   "pygments_lexer": "ipython3",
   "version": "3.12.2"
  }
 },
 "nbformat": 4,
 "nbformat_minor": 5
}
