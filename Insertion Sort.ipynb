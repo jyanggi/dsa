{
 "cells": [
  {
   "cell_type": "markdown",
   "id": "359051af-bb94-4fa3-8b99-608c82ce887c",
   "metadata": {},
   "source": [
    "### Insertion sort"
   ]
  },
  {
   "cell_type": "code",
   "execution_count": 2,
   "id": "a7a540f4-c9f3-4596-9d18-387d11dedfab",
   "metadata": {},
   "outputs": [],
   "source": [
    " def insertion_sort(nums:list):\n",
    "\tprint('loop invariant initialization:', nums[:1], nums[1:])\n",
    "\tfor i in range(1, len(nums)):\n",
    "\t\tkey = i\n",
    "\t\twhile key > 0 and nums[key-1] > nums[key]:\n",
    "\t\t\tnums[key-1],nums[key] = nums[key],nums[key-1]\n",
    "\t\t\tkey-=1\n",
    "\t\tprint('loop invariant maintenance:',nums[:i], nums[i:])\n",
    "\t\tyield i"
   ]
  },
  {
   "cell_type": "code",
   "execution_count": 3,
   "id": "ae91621b-1a4b-46de-990e-8c3a5b60823c",
   "metadata": {},
   "outputs": [
    {
     "data": {
      "text/plain": [
       "[34, 41, 52, 84, 16, 18, 89, 8, 62, 38, 14, 2]"
      ]
     },
     "execution_count": 3,
     "metadata": {},
     "output_type": "execute_result"
    }
   ],
   "source": [
    "import random as rand\n",
    "nums = rand.sample(range(1,100),12)\n",
    "nums"
   ]
  },
  {
   "cell_type": "code",
   "execution_count": 5,
   "id": "5ee228ed-d97b-4529-a380-0100d367ba63",
   "metadata": {},
   "outputs": [
    {
     "data": {
      "text/plain": [
       "<generator object insertion_sort at 0x000001B8A3EEAA40>"
      ]
     },
     "execution_count": 5,
     "metadata": {},
     "output_type": "execute_result"
    }
   ],
   "source": [
    "sorter = insertion_sort(nums)\n",
    "sorter"
   ]
  },
  {
   "cell_type": "code",
   "execution_count": 6,
   "id": "f31d9a54-a780-4b17-960c-1580451bd9bc",
   "metadata": {},
   "outputs": [
    {
     "name": "stdout",
     "output_type": "stream",
     "text": [
      "loop invariant initialization: [34] [41, 52, 84, 16, 18, 89, 8, 62, 38, 14, 2]\n",
      "loop invariant maintenance: [34] [41, 52, 84, 16, 18, 89, 8, 62, 38, 14, 2]\n"
     ]
    },
    {
     "data": {
      "text/plain": [
       "1"
      ]
     },
     "execution_count": 6,
     "metadata": {},
     "output_type": "execute_result"
    }
   ],
   "source": [
    "next(sorter)"
   ]
  },
  {
   "cell_type": "code",
   "execution_count": 7,
   "id": "0575eea8-e0d4-47fe-8754-76d3f226ec5b",
   "metadata": {},
   "outputs": [
    {
     "name": "stdout",
     "output_type": "stream",
     "text": [
      "loop invariant maintenance: [34, 41] [52, 84, 16, 18, 89, 8, 62, 38, 14, 2]\n"
     ]
    },
    {
     "data": {
      "text/plain": [
       "2"
      ]
     },
     "execution_count": 7,
     "metadata": {},
     "output_type": "execute_result"
    }
   ],
   "source": [
    "next(sorter)"
   ]
  },
  {
   "cell_type": "code",
   "execution_count": 8,
   "id": "fb309b42-8104-46f5-8c7d-7635ee678903",
   "metadata": {},
   "outputs": [
    {
     "name": "stdout",
     "output_type": "stream",
     "text": [
      "loop invariant maintenance: [34, 41, 52] [84, 16, 18, 89, 8, 62, 38, 14, 2]\n"
     ]
    },
    {
     "data": {
      "text/plain": [
       "3"
      ]
     },
     "execution_count": 8,
     "metadata": {},
     "output_type": "execute_result"
    }
   ],
   "source": [
    "next(sorter)"
   ]
  },
  {
   "cell_type": "code",
   "execution_count": 9,
   "id": "523caee5-efbe-4d34-bdad-1f2751db9089",
   "metadata": {},
   "outputs": [
    {
     "name": "stdout",
     "output_type": "stream",
     "text": [
      "loop invariant maintenance: [16, 34, 41, 52] [84, 18, 89, 8, 62, 38, 14, 2]\n"
     ]
    },
    {
     "data": {
      "text/plain": [
       "4"
      ]
     },
     "execution_count": 9,
     "metadata": {},
     "output_type": "execute_result"
    }
   ],
   "source": [
    "next(sorter)"
   ]
  },
  {
   "cell_type": "code",
   "execution_count": 10,
   "id": "20c79f8b-d814-450a-8996-d6d53c9c3dc6",
   "metadata": {},
   "outputs": [
    {
     "name": "stdout",
     "output_type": "stream",
     "text": [
      "loop invariant maintenance: [16, 18, 34, 41, 52] [84, 89, 8, 62, 38, 14, 2]\n"
     ]
    },
    {
     "data": {
      "text/plain": [
       "5"
      ]
     },
     "execution_count": 10,
     "metadata": {},
     "output_type": "execute_result"
    }
   ],
   "source": [
    "next(sorter)"
   ]
  },
  {
   "cell_type": "code",
   "execution_count": 11,
   "id": "4f080292-c419-44aa-bcc6-156b86a2d757",
   "metadata": {},
   "outputs": [
    {
     "name": "stdout",
     "output_type": "stream",
     "text": [
      "loop invariant maintenance: [16, 18, 34, 41, 52, 84] [89, 8, 62, 38, 14, 2]\n"
     ]
    },
    {
     "data": {
      "text/plain": [
       "6"
      ]
     },
     "execution_count": 11,
     "metadata": {},
     "output_type": "execute_result"
    }
   ],
   "source": [
    "next(sorter)"
   ]
  },
  {
   "cell_type": "code",
   "execution_count": 12,
   "id": "4ab1e118-b420-4928-a620-6a3721a2671d",
   "metadata": {},
   "outputs": [
    {
     "name": "stdout",
     "output_type": "stream",
     "text": [
      "loop invariant maintenance: [8, 16, 18, 34, 41, 52, 84] [89, 62, 38, 14, 2]\n"
     ]
    },
    {
     "data": {
      "text/plain": [
       "7"
      ]
     },
     "execution_count": 12,
     "metadata": {},
     "output_type": "execute_result"
    }
   ],
   "source": [
    "next(sorter)"
   ]
  },
  {
   "cell_type": "code",
   "execution_count": 13,
   "id": "8ceb10a8-69ee-4353-801d-98351c3130eb",
   "metadata": {},
   "outputs": [
    {
     "name": "stdout",
     "output_type": "stream",
     "text": [
      "loop invariant maintenance: [8, 16, 18, 34, 41, 52, 62, 84] [89, 38, 14, 2]\n"
     ]
    },
    {
     "data": {
      "text/plain": [
       "8"
      ]
     },
     "execution_count": 13,
     "metadata": {},
     "output_type": "execute_result"
    }
   ],
   "source": [
    "next(sorter)"
   ]
  },
  {
   "cell_type": "code",
   "execution_count": 14,
   "id": "3e5f3d71-6c02-4c0f-ac77-d101674bf69e",
   "metadata": {},
   "outputs": [
    {
     "name": "stdout",
     "output_type": "stream",
     "text": [
      "loop invariant maintenance: [8, 16, 18, 34, 38, 41, 52, 62, 84] [89, 14, 2]\n"
     ]
    },
    {
     "data": {
      "text/plain": [
       "9"
      ]
     },
     "execution_count": 14,
     "metadata": {},
     "output_type": "execute_result"
    }
   ],
   "source": [
    "next(sorter)"
   ]
  },
  {
   "cell_type": "code",
   "execution_count": 15,
   "id": "43c172a5-b30d-4453-9005-0a29365b5bf9",
   "metadata": {},
   "outputs": [
    {
     "name": "stdout",
     "output_type": "stream",
     "text": [
      "loop invariant maintenance: [8, 14, 16, 18, 34, 38, 41, 52, 62, 84] [89, 2]\n"
     ]
    },
    {
     "data": {
      "text/plain": [
       "10"
      ]
     },
     "execution_count": 15,
     "metadata": {},
     "output_type": "execute_result"
    }
   ],
   "source": [
    "next(sorter)"
   ]
  },
  {
   "cell_type": "code",
   "execution_count": 16,
   "id": "b5c1246d-d24d-4069-8208-ad46d9d92cb4",
   "metadata": {},
   "outputs": [
    {
     "name": "stdout",
     "output_type": "stream",
     "text": [
      "loop invariant maintenance: [2, 8, 14, 16, 18, 34, 38, 41, 52, 62, 84] [89]\n"
     ]
    },
    {
     "data": {
      "text/plain": [
       "11"
      ]
     },
     "execution_count": 16,
     "metadata": {},
     "output_type": "execute_result"
    }
   ],
   "source": [
    "next(sorter)"
   ]
  },
  {
   "cell_type": "code",
   "execution_count": 17,
   "id": "ed547f22-0784-4e64-b451-5675ce42953a",
   "metadata": {},
   "outputs": [
    {
     "ename": "StopIteration",
     "evalue": "",
     "output_type": "error",
     "traceback": [
      "\u001b[1;31m---------------------------------------------------------------------------\u001b[0m",
      "\u001b[1;31mStopIteration\u001b[0m                             Traceback (most recent call last)",
      "Cell \u001b[1;32mIn[17], line 1\u001b[0m\n\u001b[1;32m----> 1\u001b[0m \u001b[38;5;28;43mnext\u001b[39;49m\u001b[43m(\u001b[49m\u001b[43msorter\u001b[49m\u001b[43m)\u001b[49m\n",
      "\u001b[1;31mStopIteration\u001b[0m: "
     ]
    }
   ],
   "source": [
    "next(sorter)"
   ]
  },
  {
   "cell_type": "code",
   "execution_count": 18,
   "id": "26235381-b7b4-40c8-b1e9-f5ac4a338442",
   "metadata": {},
   "outputs": [
    {
     "data": {
      "text/plain": [
       "[2, 8, 14, 16, 18, 34, 38, 41, 52, 62, 84, 89]"
      ]
     },
     "execution_count": 18,
     "metadata": {},
     "output_type": "execute_result"
    }
   ],
   "source": [
    "nums"
   ]
  },
  {
   "cell_type": "code",
   "execution_count": null,
   "id": "21cb50a7-d108-442a-8ce5-d55802ce1458",
   "metadata": {},
   "outputs": [],
   "source": []
  }
 ],
 "metadata": {
  "kernelspec": {
   "display_name": "Python 3 (ipykernel)",
   "language": "python",
   "name": "python3"
  },
  "language_info": {
   "codemirror_mode": {
    "name": "ipython",
    "version": 3
   },
   "file_extension": ".py",
   "mimetype": "text/x-python",
   "name": "python",
   "nbconvert_exporter": "python",
   "pygments_lexer": "ipython3",
   "version": "3.12.2"
  }
 },
 "nbformat": 4,
 "nbformat_minor": 5
}
